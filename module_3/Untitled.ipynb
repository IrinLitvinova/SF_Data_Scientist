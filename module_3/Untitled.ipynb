{
 "cells": [
  {
   "cell_type": "code",
   "execution_count": null,
   "metadata": {},
   "outputs": [],
   "source": [
    "# fig, ax = plt.subplots(figsize=(15, 5))\n",
    "sns.countplot(y = data.loc[:, 'City1'])\n",
    "plt.show()"
   ]
  },
  {
   "cell_type": "code",
   "execution_count": 7,
   "metadata": {},
   "outputs": [
    {
     "name": "stdout",
     "output_type": "stream",
     "text": [
      "  movie                                          genre\n",
      "0     a  [Action, Fantasy, Adventure, Science Fiction]\n",
      "1     b                   [Action, Fantasy, Adventure]\n",
      "2     c                     [Action, Adventure, Crime]\n"
     ]
    },
    {
     "data": {
      "text/html": [
       "<div>\n",
       "<style scoped>\n",
       "    .dataframe tbody tr th:only-of-type {\n",
       "        vertical-align: middle;\n",
       "    }\n",
       "\n",
       "    .dataframe tbody tr th {\n",
       "        vertical-align: top;\n",
       "    }\n",
       "\n",
       "    .dataframe thead th {\n",
       "        text-align: right;\n",
       "    }\n",
       "</style>\n",
       "<table border=\"1\" class=\"dataframe\">\n",
       "  <thead>\n",
       "    <tr style=\"text-align: right;\">\n",
       "      <th></th>\n",
       "      <th>movie</th>\n",
       "      <th>Action</th>\n",
       "      <th>Adventure</th>\n",
       "      <th>Crime</th>\n",
       "      <th>Fantasy</th>\n",
       "      <th>Science Fiction</th>\n",
       "    </tr>\n",
       "  </thead>\n",
       "  <tbody>\n",
       "    <tr>\n",
       "      <th>0</th>\n",
       "      <td>a</td>\n",
       "      <td>1</td>\n",
       "      <td>1</td>\n",
       "      <td>0</td>\n",
       "      <td>1</td>\n",
       "      <td>1</td>\n",
       "    </tr>\n",
       "    <tr>\n",
       "      <th>1</th>\n",
       "      <td>b</td>\n",
       "      <td>1</td>\n",
       "      <td>1</td>\n",
       "      <td>0</td>\n",
       "      <td>1</td>\n",
       "      <td>0</td>\n",
       "    </tr>\n",
       "    <tr>\n",
       "      <th>2</th>\n",
       "      <td>c</td>\n",
       "      <td>1</td>\n",
       "      <td>1</td>\n",
       "      <td>1</td>\n",
       "      <td>0</td>\n",
       "      <td>0</td>\n",
       "    </tr>\n",
       "  </tbody>\n",
       "</table>\n",
       "</div>"
      ],
      "text/plain": [
       "  movie  Action  Adventure  Crime  Fantasy  Science Fiction\n",
       "0     a       1          1      0        1                1\n",
       "1     b       1          1      0        1                0\n",
       "2     c       1          1      1        0                0"
      ]
     },
     "execution_count": 7,
     "metadata": {},
     "output_type": "execute_result"
    }
   ],
   "source": [
    "import pandas as pd\n",
    "df = pd.DataFrame({\n",
    "    'movie':['a', 'b', 'c'],\n",
    "    'genre':[['Action', 'Fantasy', 'Adventure', 'Science Fiction'],['Action', 'Fantasy', 'Adventure'],['Action', 'Adventure', 'Crime']]\n",
    "})\n",
    "dum = pd.get_dummies(df['genre'].apply(pd.Series).stack()).reset_index(1, drop=True)\n",
    "print(df)\n",
    "dum.groupby(dum.index).sum()\n",
    "df.merge(dum.groupby(dum.index).sum(), left_index=True, right_index=True).drop('genre', axis=1)"
   ]
  },
  {
   "cell_type": "code",
   "execution_count": null,
   "metadata": {},
   "outputs": [],
   "source": [
    "# Определим количество ресторанов каждой ценовой категории по городам \n",
    "groups_price = data.groupby(['City1'])['Price Range'].value_counts().to_dict()\n",
    "print(groups_price)"
   ]
  },
  {
   "cell_type": "code",
   "execution_count": null,
   "metadata": {},
   "outputs": [],
   "source": [
    "# Добавим количество ресторанов в городе, будем использовать в других признаках\n",
    "amount = data['City1'].value_counts().to_dict()\n",
    "data['Amount Rest'] = data.City1.apply(lambda x: amount[x])\n",
    "# Создадим признак индекс ресторана = место ресторана / количество ресторанов в городе\n",
    "# чем он меньше, тем лучше относительное место ресторана\n",
    "data['Index Ranking'] = data['Ranking'] / data['Amount Rest']\n",
    "print(amount)\n",
    "display(data.head(5))"
   ]
  }
 ],
 "metadata": {
  "kernelspec": {
   "display_name": "Python 3",
   "language": "python",
   "name": "python3"
  },
  "language_info": {
   "codemirror_mode": {
    "name": "ipython",
    "version": 3
   },
   "file_extension": ".py",
   "mimetype": "text/x-python",
   "name": "python",
   "nbconvert_exporter": "python",
   "pygments_lexer": "ipython3",
   "version": "3.8.5"
  }
 },
 "nbformat": 4,
 "nbformat_minor": 4
}
